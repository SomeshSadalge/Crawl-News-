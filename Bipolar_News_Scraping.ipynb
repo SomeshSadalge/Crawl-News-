{
  "nbformat": 4,
  "nbformat_minor": 0,
  "metadata": {
    "colab": {
      "name": "Bipolar News Scraping.ipynb",
      "provenance": [],
      "collapsed_sections": []
    },
    "kernelspec": {
      "name": "python3",
      "display_name": "Python 3"
    }
  },
  "cells": [
    {
      "cell_type": "code",
      "metadata": {
        "id": "SvrrWiNe3J4_",
        "colab_type": "code",
        "colab": {}
      },
      "source": [
        "from bs4 import BeautifulSoup\n",
        "import requests"
      ],
      "execution_count": 0,
      "outputs": []
    },
    {
      "cell_type": "code",
      "metadata": {
        "id": "RKRH85sb3SoP",
        "colab_type": "code",
        "colab": {}
      },
      "source": [
        "url = 'https://www.nytimes.com/'"
      ],
      "execution_count": 0,
      "outputs": []
    },
    {
      "cell_type": "code",
      "metadata": {
        "id": "aF8AxNZD3VHi",
        "colab_type": "code",
        "colab": {}
      },
      "source": [
        "html = requests.get(url)\n",
        "plain_text = html.text"
      ],
      "execution_count": 0,
      "outputs": []
    },
    {
      "cell_type": "code",
      "metadata": {
        "id": "GHPNpFn13Yku",
        "colab_type": "code",
        "outputId": "248d2f6d-eccb-4851-cd4e-bb34d7cb96fb",
        "colab": {
          "base_uri": "https://localhost:8080/",
          "height": 697
        }
      },
      "source": [
        "soup = BeautifulSoup(plain_text)\n",
        "soup.find_all('h2')"
      ],
      "execution_count": 0,
      "outputs": [
        {
          "output_type": "execute_result",
          "data": {
            "text/plain": [
              "[<h2 class=\"css-nhfrhl esl82me0\">Your Thursday Briefing</h2>,\n",
              " <h2 class=\"css-nhfrhl esl82me0\">California Today</h2>,\n",
              " <h2 class=\"css-nhfrhl esl82me0\">Listen to ‘The Daily’</h2>,\n",
              " <h2 class=\"css-1vvhd4r esl82me0\"><span>House to Vote on Aid Bill; 4.4 Million New Jobless Claims in U.S.</span></h2>,\n",
              " <h2 class=\"css-1cmu9py esl82me0\">Vaccine Rates Drop Dangerously as Parents Avoid Doctor’s Visits</h2>,\n",
              " <h2 class=\"css-1cmu9py esl82me0\">Hidden Outbreaks Spread Far Earlier Than Americans Knew, Estimates Say</h2>,\n",
              " <h2 class=\"css-59eywo\">Live Updates</h2>,\n",
              " <h2 class=\"styln-hp-briefing-section\">Economy</h2>,\n",
              " <h2 class=\"styln-hp-briefing-section\">New York </h2>,\n",
              " <h2 class=\"styln-hp-briefing-section\">Global</h2>,\n",
              " <h2 class=\"css-1su19vv interactive-headline\" id=\"interactive-headline\"> </h2>,\n",
              " <h2 class=\"css-1vvhd4r esl82me0\"><span>‘Florida Is a Terrible State to Be an Unemployed Person’</span></h2>,\n",
              " <h2 class=\"css-1cmu9py esl82me0\">Jobless Numbers Are ‘Eye-Watering’ but Understate the Crisis</h2>,\n",
              " <h2 class=\"css-1cmu9py esl82me0\">The $600 Unemployment Booster Shot, State by State</h2>,\n",
              " <h2 class=\"css-1vvhd4r esl82me0\"><span>‘Sadness’ and Disbelief From a World Missing American Leadership</span></h2>,\n",
              " <h2 class=\"css-1cmu9py esl82me0\">Imams Overrule Pakistan’s Lockdown as Ramadan Nears</h2>,\n",
              " <h2 class=\"css-1cmu9py esl82me0\">China Imposes New Limits as Coronavirus Fears Return</h2>,\n",
              " <h2 class=\"css-1gnqzz esl82me0\"><span>My Restaurant Was My Life for 20 Years. Does the World Need It Anymore?</span></h2>,\n",
              " <h2 class=\"css-1vvhd4r esl82me0\"><span>Coronavirus Forces Cities to Pause Climate Projects, Raising Future Risks</span></h2>,\n",
              " <h2 class=\"css-1cmu9py esl82me0\">Housing activists are finding creative ways to raise their voices despite social distancing.</h2>,\n",
              " <h2 class=\"css-1cmu9py esl82me0\">Any plan to begin restoring public life means sacrificing lives, leaving politicians with cold calculations.</h2>,\n",
              " <h2 class=\"css-1vvhd4r esl82me0\"><span>Only Bill Belichick Knows What’s Next for the New England Patriots</span></h2>,\n",
              " <h2 class=\"css-1cmu9py esl82me0\">How N.F.L. Draft Day Began the End of My 22-Year Football Career</h2>,\n",
              " <h2 class=\"css-1cmu9py esl82me0\">Joe Burrow Goes First … Then What?</h2>,\n",
              " <h2 class=\"css-1yxu27x esl82me0\">Who Has Enough Cash to Get Through the Coronavirus Crisis?</h2>,\n",
              " <h2 class=\"css-z9cw67 esl82me0\">The Money Machine That Can Save Cities</h2>,\n",
              " <h2 class=\"css-z9cw67 esl82me0\">A Precedent Overturned Reveals a Supreme Court in Crisis</h2>,\n",
              " <h2 class=\"css-z9cw67 esl82me0\">This Pandemic Is Bringing Another With It</h2>,\n",
              " <h2 class=\"css-z9cw67 esl82me0\">Use the Coronavirus Shutdown to Train Workers</h2>,\n",
              " <h2 class=\"css-z9cw67 esl82me0\">Mutineers, Raise Your Hands</h2>,\n",
              " <h2 class=\"css-z9cw67 esl82me0\">How Joe Biden Should Pick His Running Mate</h2>,\n",
              " <h2 class=\"css-z9cw67 esl82me0\">If We’re Giving Trump a Show, We Should Give Biden One, Too</h2>,\n",
              " <h2 class=\"css-z9cw67 esl82me0\">Trump: Why Waste a Crisis?</h2>,\n",
              " <h2 class=\"css-z9cw67 esl82me0\">I Can’t Bring Myself to Stand in Line for Food Again</h2>,\n",
              " <h2 class=\"css-z9cw67 esl82me0\">‘We Will Make the Best Out of It’: Ramadan Amid a Pandemic</h2>,\n",
              " <h2 class=\"css-1gnqzz esl82me0\"><span>Hollywood Beacons in the Night</span></h2>,\n",
              " <h2 class=\"css-1cmu9py esl82me0\">Neediest Cases Fund: Bringing Books to Students in Need</h2>,\n",
              " <h2 class=\"css-1cmu9py esl82me0\">She Traded a 6-Bedroom House for an Apartment. Which Would You Choose?</h2>,\n",
              " <h2 class=\"css-vz7hjd\" id=\"site-index-label\">Site Index</h2>,\n",
              " <h2 class=\"css-vz7hjd\">Site Information Navigation</h2>]"
            ]
          },
          "metadata": {
            "tags": []
          },
          "execution_count": 6
        }
      ]
    },
    {
      "cell_type": "code",
      "metadata": {
        "id": "GpvixQrW4OKu",
        "colab_type": "code",
        "outputId": "0bff88f8-9fbc-4ea2-b5c3-ce9d4a9633ff",
        "colab": {
          "base_uri": "https://localhost:8080/",
          "height": 697
        }
      },
      "source": [
        "for link in soup.find_all('h2'):\n",
        "  print(link.string)"
      ],
      "execution_count": 0,
      "outputs": [
        {
          "output_type": "stream",
          "text": [
            "Your Thursday Briefing\n",
            "California Today\n",
            "Listen to ‘The Daily’\n",
            "House to Vote on Aid Bill; 4.4 Million New Jobless Claims in U.S.\n",
            "Vaccine Rates Drop Dangerously as Parents Avoid Doctor’s Visits\n",
            "Hidden Outbreaks Spread Far Earlier Than Americans Knew, Estimates Say\n",
            "Live Updates\n",
            "Economy\n",
            "New York \n",
            "Global\n",
            " \n",
            "‘Florida Is a Terrible State to Be an Unemployed Person’\n",
            "Jobless Numbers Are ‘Eye-Watering’ but Understate the Crisis\n",
            "The $600 Unemployment Booster Shot, State by State\n",
            "‘Sadness’ and Disbelief From a World Missing American Leadership\n",
            "Imams Overrule Pakistan’s Lockdown as Ramadan Nears\n",
            "China Imposes New Limits as Coronavirus Fears Return\n",
            "My Restaurant Was My Life for 20 Years. Does the World Need It Anymore?\n",
            "Coronavirus Forces Cities to Pause Climate Projects, Raising Future Risks\n",
            "Housing activists are finding creative ways to raise their voices despite social distancing.\n",
            "Any plan to begin restoring public life means sacrificing lives, leaving politicians with cold calculations.\n",
            "Only Bill Belichick Knows What’s Next for the New England Patriots\n",
            "How N.F.L. Draft Day Began the End of My 22-Year Football Career\n",
            "Joe Burrow Goes First … Then What?\n",
            "Who Has Enough Cash to Get Through the Coronavirus Crisis?\n",
            "The Money Machine That Can Save Cities\n",
            "A Precedent Overturned Reveals a Supreme Court in Crisis\n",
            "This Pandemic Is Bringing Another With It\n",
            "Use the Coronavirus Shutdown to Train Workers\n",
            "Mutineers, Raise Your Hands\n",
            "How Joe Biden Should Pick His Running Mate\n",
            "If We’re Giving Trump a Show, We Should Give Biden One, Too\n",
            "Trump: Why Waste a Crisis?\n",
            "I Can’t Bring Myself to Stand in Line for Food Again\n",
            "‘We Will Make the Best Out of It’: Ramadan Amid a Pandemic\n",
            "Hollywood Beacons in the Night\n",
            "Neediest Cases Fund: Bringing Books to Students in Need\n",
            "She Traded a 6-Bedroom House for an Apartment. Which Would You Choose?\n",
            "Site Index\n",
            "Site Information Navigation\n"
          ],
          "name": "stdout"
        }
      ]
    },
    {
      "cell_type": "code",
      "metadata": {
        "id": "iP3zNyIb83cG",
        "colab_type": "code",
        "colab": {}
      },
      "source": [
        ""
      ],
      "execution_count": 0,
      "outputs": []
    }
  ]
}